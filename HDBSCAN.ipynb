{
 "cells": [
  {
   "cell_type": "code",
   "execution_count": 1,
   "metadata": {},
   "outputs": [],
   "source": [
    "import pandas as pd\n",
    "import numpy as np"
   ]
  },
  {
   "cell_type": "code",
   "execution_count": 2,
   "metadata": {},
   "outputs": [
    {
     "name": "stderr",
     "output_type": "stream",
     "text": [
      "/usr/local/lib/python3.6/dist-packages/IPython/core/interactiveshell.py:3020: DtypeWarning: Columns (2,7) have mixed types. Specify dtype option on import or set low_memory=False.\n",
      "  interactivity=interactivity, compiler=compiler, result=result)\n"
     ]
    }
   ],
   "source": [
    "address_url = \"dataset/hi.csv\"\n",
    "address = pd.read_csv(address_url)"
   ]
  },
  {
   "cell_type": "code",
   "execution_count": 3,
   "metadata": {},
   "outputs": [],
   "source": [
    "df = address[:1000]\n",
    "df = df.drop(['NUMBER','STREET', 'UNIT','CITY', 'DISTRICT', 'REGION', 'POSTCODE', 'ID', 'HASH'], axis=1)"
   ]
  },
  {
   "cell_type": "code",
   "execution_count": 4,
   "metadata": {},
   "outputs": [
    {
     "name": "stderr",
     "output_type": "stream",
     "text": [
      "/home/abhi/Desktop/scikit-learn/sklearn/externals/six.py:31: DeprecationWarning: The module is deprecated in version 0.21 and will be removed in version 0.23 since we've dropped support for Python 2.7. Please rely on the official version of six (https://pypi.org/project/six/).\n",
      "  \"(https://pypi.org/project/six/).\", DeprecationWarning)\n"
     ]
    },
    {
     "name": "stdout",
     "output_type": "stream",
     "text": [
      "Number of clusters: 28\n",
      "         LON       LAT  Count\n",
      "6   0.373703 -2.754164   79.0\n",
      "26  0.371500 -2.754154   57.0\n",
      "19  0.373541 -2.756876   53.0\n",
      "4   0.374217 -2.760811   52.0\n",
      "15  0.373413 -2.757798   51.0\n",
      "16  0.372082 -2.757861   43.0\n",
      "9   0.373523 -2.753139   42.0\n",
      "17  0.373152 -2.756339   32.0\n",
      "14  0.372460 -2.755793   30.0\n",
      "20  0.371519 -2.752642   28.0\n"
     ]
    }
   ],
   "source": [
    "import hdbscan\n",
    "X = np.array(df)\n",
    "X= X.astype(np.float)\n",
    "rads = np.radians(X)\n",
    "\n",
    "kms_per_radian = 6371.0088\n",
    "epsilon = 1.2 / kms_per_radian\n",
    "clusterer = hdbscan.HDBSCAN(min_cluster_size=10, metric='haversine')\n",
    "cluster_labels = clusterer.fit_predict(df)\n",
    "df['Cluster']=cluster_labels\n",
    "\n",
    "cluster_count = df.groupby('Cluster').count().sort_values(by=['LAT'],ascending=False)[:10]\n",
    "cluster_count = cluster_count.drop(['LON'],axis=1)\n",
    "x = cluster_count.LAT.keys()\n",
    "cluster_count\n",
    "num_clusters = len(set(cluster_labels))\n",
    "clusters = pd.Series([rads[cluster_labels == n] for n in range(num_clusters)])\n",
    "print('Number of clusters: {}'.format(num_clusters))\n",
    "\n",
    "from geopy.distance import great_circle\n",
    "from shapely.geometry import MultiPoint\n",
    "def get_centermost_point(cluster):\n",
    "    centroid = (MultiPoint(cluster).centroid.x, MultiPoint(cluster).centroid.y)\n",
    "    centermost_point = min(cluster, key=lambda point: great_circle(point, centroid).m)\n",
    "    return tuple(centermost_point)\n",
    "\n",
    "#x = np.ndarray()\n",
    "rep = pd.DataFrame(columns=['LON', 'LAT', 'Count']);\n",
    "    #print(clusters[0])\n",
    "for i in clusters[:len(clusters)-1]:\n",
    "    length = len(i)\n",
    "    x =  get_centermost_point(i)\n",
    "    #print(x)\n",
    "    rep = rep.append({'LON':x[1], 'LAT': x[0], 'Count':length},ignore_index=True)\n",
    "#print(rep)\n",
    "rep = rep.sort_values(by='Count', ascending=False)[:10]\n",
    "\n",
    "print(rep)\n",
    "    \n",
    "#centermost_points = clusters.map(get_centermost_point)"
   ]
  },
  {
   "cell_type": "code",
   "execution_count": 8,
   "metadata": {},
   "outputs": [],
   "source": []
  },
  {
   "cell_type": "code",
   "execution_count": 9,
   "metadata": {},
   "outputs": [],
   "source": [
    "kms_per_radian = 6371.0088\n",
    "epsilon = 1.2 / kms_per_radian\n",
    "clusterer = hdbscan.HDBSCAN(min_cluster_size=10, metric='haversine')\n",
    "cluster_labels = clusterer.fit_predict(df)"
   ]
  },
  {
   "cell_type": "code",
   "execution_count": 12,
   "metadata": {},
   "outputs": [],
   "source": [
    "df['Cluster']=cluster_labels"
   ]
  },
  {
   "cell_type": "code",
   "execution_count": 13,
   "metadata": {},
   "outputs": [
    {
     "name": "stdout",
     "output_type": "stream",
     "text": [
      "Number of clusters: 28\n"
     ]
    }
   ],
   "source": [
    "cluster_count = df.groupby('Cluster').count().sort_values(by=['LAT'],ascending=False)[:10]\n",
    "cluster_count = cluster_count.drop(['LON'],axis=1)\n",
    "x = cluster_count.LAT.keys()\n",
    "cluster_count\n",
    "num_clusters = len(set(cluster_labels))\n",
    "clusters = pd.Series([rads[cluster_labels == n] for n in range(num_clusters)])\n",
    "print('Number of clusters: {}'.format(num_clusters))"
   ]
  },
  {
   "cell_type": "code",
   "execution_count": 14,
   "metadata": {},
   "outputs": [
    {
     "name": "stdout",
     "output_type": "stream",
     "text": [
      "         LAT\n",
      "Cluster     \n",
      "-1       277\n",
      " 6        79\n",
      " 26       57\n",
      " 19       53\n",
      " 4        52\n",
      " 15       51\n",
      " 16       43\n",
      " 9        42\n",
      " 17       32\n",
      " 14       30\n"
     ]
    }
   ],
   "source": [
    "print(cluster_count)"
   ]
  },
  {
   "cell_type": "code",
   "execution_count": 17,
   "metadata": {},
   "outputs": [
    {
     "name": "stdout",
     "output_type": "stream",
     "text": [
      "         LON       LAT  Count\n",
      "6   0.373703 -2.754164   79.0\n",
      "26  0.371500 -2.754154   57.0\n",
      "19  0.373541 -2.756876   53.0\n",
      "4   0.374217 -2.760811   52.0\n",
      "15  0.373413 -2.757798   51.0\n",
      "16  0.372082 -2.757861   43.0\n",
      "9   0.373523 -2.753139   42.0\n",
      "17  0.373152 -2.756339   32.0\n",
      "14  0.372460 -2.755793   30.0\n",
      "20  0.371519 -2.752642   28.0\n"
     ]
    }
   ],
   "source": [
    "from geopy.distance import great_circle\n",
    "from shapely.geometry import MultiPoint\n",
    "def get_centermost_point(cluster):\n",
    "    centroid = (MultiPoint(cluster).centroid.x, MultiPoint(cluster).centroid.y)\n",
    "    centermost_point = min(cluster, key=lambda point: great_circle(point, centroid).m)\n",
    "    return tuple(centermost_point)\n",
    "\n",
    "#x = np.ndarray()\n",
    "rep = pd.DataFrame(columns=['LON', 'LAT', 'Count']);\n",
    "    #print(clusters[0])\n",
    "for i in clusters[:len(clusters)-1]:\n",
    "    length = len(i)\n",
    "    x =  get_centermost_point(i)\n",
    "    #print(x)\n",
    "    rep = rep.append({'LON':x[1], 'LAT': x[0], 'Count':length},ignore_index=True)\n",
    "#print(rep)\n",
    "rep = rep.sort_values(by='Count', ascending=False)[:10]\n",
    "\n",
    "print(rep)\n",
    "    \n",
    "#centermost_points = clusters.map(get_centermost_point)"
   ]
  },
  {
   "cell_type": "code",
   "execution_count": null,
   "metadata": {},
   "outputs": [],
   "source": [
    "#a = np.degrees"
   ]
  },
  {
   "cell_type": "code",
   "execution_count": null,
   "metadata": {},
   "outputs": [],
   "source": []
  }
 ],
 "metadata": {
  "kernelspec": {
   "display_name": "Python 3",
   "language": "python",
   "name": "python3"
  },
  "language_info": {
   "codemirror_mode": {
    "name": "ipython",
    "version": 3
   },
   "file_extension": ".py",
   "mimetype": "text/x-python",
   "name": "python",
   "nbconvert_exporter": "python",
   "pygments_lexer": "ipython3",
   "version": "3.6.7"
  }
 },
 "nbformat": 4,
 "nbformat_minor": 2
}
